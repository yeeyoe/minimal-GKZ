reset() # 清空内核中的所有变量


from sage.geometry.polyhedron.constructor import Polyhedron
import matplotlib.pyplot as plt


# 定义点集 A 和函数 f
A = [(0, 0), (1, 1), (2, 0), (2, 2), (3, 1)]  # 2D 点集
f = {p: p[0] + p[1]**2 for p in A}  # 定义函数 f


Q = Polyhedron(A)
Q.Hrepresentation()


# 构造三维点集 (x, y, f(x, y))
points_3d = [(x, y, f[(x, y)]) for (x, y) in A]

# 计算三维点集的凸包
P = Polyhedron(vertices=points_3d)


H = P.Hrepresentation()  # tuple. 用()表示


H


HL = [ineq for ineq in H if ineq[len(H[0])-1] > 0]
HL


# 获取下凸包顶点（z最小的部分）
lower_hull = [v for v in P.vertices() if all(v.dot(n) <= 0 for n in P.Hrepresentation())]

# 提取对应的二维点和函数值
lower_hull_2d = [(v[0], v[1], v[2]) for v in lower_hull]

# 输出结果
print("最大凸函数的凸包点:", lower_hull_2d)

# 可视化下凸包截面
x_vals = [p[0] for p in lower_hull_2d]
y_vals = [p[1] for p in lower_hull_2d]
z_vals = [p[2] for p in lower_hull_2d]

plt.figure()
plt.tricontourf(x_vals, y_vals, z_vals, levels=14, cmap="viridis")
plt.colorbar()
plt.scatter([p[0] for p in A], [p[1] for p in A], c='red', label="Original Points")
plt.title("Maximum Convex Function on Convex Hull")
plt.legend()
plt.show()



