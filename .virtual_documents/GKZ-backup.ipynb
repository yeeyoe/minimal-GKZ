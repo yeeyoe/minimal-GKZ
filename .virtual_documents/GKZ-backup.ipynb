reset()


#from sage.geometry.polyhedron.constructor import Polyhedron
#from sage.numerical.optimize import minimize_constrained


Pk = PointConfiguration([[0,0], [1,0], [2,0], [1,1], [0,1]])


P = Pk.secondary_polytope()


P.Vrepresentation()


P.Hrepresentation()


A = [eq[1:] for eq in P.equations()]  # 提取矩阵 A  等式约束
b = [eq[0] for eq in P.equations()]  # 提取向量 b
G = [ineq[1:] for ineq in P.inequalities()]  # 提取矩阵 G  不等式约束
h = [ineq[0] for ineq in P.inequalities()]  # 提取向量 h


N = len(A[1])


f = lambda x, i=i: sum(x[i]**2 for i in range(N))


# 定义约束条件
cons = []
for i in range(len(A)):
    cons.append(lambda x, i=i: b[i]+sum(A[i][j] * x[j] for j in range(N)))


for i in range(len(A)):
    cons.append(lambda x, i=i: -b[i]-sum(A[i][j] * x[j] for j in range(N)))


for i in range(len(G)):
    cons.append(lambda x, i=i: h[i]+sum(G[i][j] * x[j] for j in range(N)))


# 求解优化问题
init = list(P.vertices()[0])  # 取第一个顶点为始化点


result = minimize_constrained(f, cons, init, algorithm="trust-constr") 
# algorithm="SLSQP"  多面体的约束由线性等式和不等式组成
# algorithm="trust-constr" 高维问题或多面体有大量的约束（稀疏约束矩阵）

print("最小GKZ向量:", result)






