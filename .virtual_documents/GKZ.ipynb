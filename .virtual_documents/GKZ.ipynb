# This program compute the minimal GKZ vector associated to a point-configuration
# input: point-configuration A
# output: 


reset()


#from sage.geometry.polyhedron.constructor import Polyhedron
#from sage.numerical.optimize import minimize_constrained
# P.volume()
import sage.rings.rational as rational


A = [[0,0], [1,0], [2,0], [1,3], [0,1]] # point-configuration

# mather example [4,0,0], [0,4,0], [0,0,4], [2,1,1], [1,2,1], [1,1,2]
# Naoto's five points [0,0], [1,0], [2,0], [1,1], [0,1]
Ap = PointConfiguration(A)


N = len(A) # 点的个数
n = len(A[0]) # 维数


SP = Ap.secondary_polytope()


SP.Vrepresentation()


SP.Hrepresentation()


f = lambda x, i=i: sum(x[i]**2 for i in range(N)) # 目标函数 向量模平方


# for using Mathematica
Ae = [eq[0:] for eq in SP.equations()]
Ai = [ineq[0:] for ineq in SP.inequalities()]
Ae


Ai


# 提取SP的约束不等式的系数
B = [eq[1:] for eq in SP.equations()]  # 提取 等式约束的x系数
b = [eq[0] for eq in SP.equations()]  # 提取 等式约束的常数项
G = [ineq[1:] for ineq in SP.inequalities()]  # 提取 不等式约束的x系数
g = [ineq[0] for ineq in SP.inequalities()]  # 提取 不等式约束的常数项


# 定义约束条件
cons = []
for i in range(len(B)):
    cons.append(lambda x, i=i: b[i]+sum(B[i][j] * x[j] for j in range(N)))
for i in range(len(B)):
    cons.append(lambda x, i=i: -b[i]-sum(B[i][j] * x[j] for j in range(N)))
for i in range(len(G)):
    cons.append(lambda x, i=i: g[i]+sum(G[i][j] * x[j] for j in range(N)))


# 取 SP 的第一个顶点为初始点
init = list(SP.vertices()[0]) 


# 求解优化问题
mGKZ = minimize_constrained(f, cons, init)
# algorithm="SLSQP"  多面体的约束由线性等式和不等式组成
# algorithm="trust-constr" 高维问题或多面体有大量的约束（稀疏约束矩阵）

print("最小GKZ向量:", mGKZ)


# 计算 mGKZ 的 lower convex envelop
liftA = [a + [b] for a, b in zip(A, mGKZ)]


liftA


liftQ = Polyhedron(liftA)


HLQ = liftQ.Hrepresentation()
lowHLQ = [ineq for ineq in HLQ if ineq[n+1] > 0]
lowHLQ


liftQ.show()



