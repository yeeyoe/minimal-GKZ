from sage.geometry.polyhedron.constructor import Polyhedron
from cvxopt import matrix, solvers


A = PointConfiguration([[0,0], [1,0], [5,2], [1,2], [0,1]])


P = A.secondary_polytope()


# 定义QP问题
# Q 是目标函数中的二次项系数矩阵，I是单位矩阵，因为我们最小化x^2
N = 5
# 创建对角矩阵
diagonal_elements = [2] * N
Q = diagonal_matrix(diagonal_elements)
q = [0] * N  # 零向量
    
# 从多面体获取不等式约束
G = matrix(P.inequalities())
h = matrix([0.0] * G.size[0])  # 假设所有不等式右侧都为0
    
# 获取等式约束，这里假设我们有等式约束
A = matrix(P.equations())
b = matrix([eq[-1] for eq in P.equations()])  # 假设等式右侧不是0

# 调用CVXOPT二次规划求解器
sol = solvers.qp(P=Q, q=q, G=G, h=h, A=A, b=b)
    
# 输出结果
print("原点在P上的投影:", sol['x'])



