reset()


A = [[0,0], [1,0], [2,0], [1,1], [0,1]]
mGKZ = [1,2,3,4,5]


N = len(A)
n = len(A[0])


liftA = [a + [b] for a, b in zip(A, mGKZ)]


liftQ = Polyhedron(liftA)
HLQ = liftQ.Hrepresentation()
HLQ


lowHLQ = [ineq for ineq in HLQ if ineq[n+1] > 0]
lowHLQ


liftQ.show()



