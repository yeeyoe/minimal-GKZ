{
 "cells": [
  {
   "cell_type": "code",
   "execution_count": 15,
   "id": "0005f8ef-c806-4cf5-a844-0a1678e8f35f",
   "metadata": {},
   "outputs": [],
   "source": [
    "reset()"
   ]
  },
  {
   "cell_type": "code",
   "execution_count": 16,
   "id": "11a8957a-5a8b-4171-9327-a34cbb35f3fb",
   "metadata": {},
   "outputs": [],
   "source": [
    "#from sage.geometry.polyhedron.constructor import Polyhedron\n",
    "#from sage.numerical.optimize import minimize_constrained"
   ]
  },
  {
   "cell_type": "code",
   "execution_count": 17,
   "id": "133b3c81-3a19-449b-8494-967130211a3b",
   "metadata": {},
   "outputs": [],
   "source": [
    "Pk = PointConfiguration([[0,0], [1,0], [2,0], [1,3], [0,1]])"
   ]
  },
  {
   "cell_type": "code",
   "execution_count": 18,
   "id": "996cfa6a-5863-4eb6-bbb8-bd092122743c",
   "metadata": {},
   "outputs": [],
   "source": [
    "P = Pk.secondary_polytope()"
   ]
  },
  {
   "cell_type": "code",
   "execution_count": 19,
   "id": "9cb74e2a-3e67-43cf-9a0c-3c98e37cc98f",
   "metadata": {},
   "outputs": [
    {
     "data": {
      "text/plain": [
       "(A vertex at (1, 2, 6, 5, 7),\n",
       " A vertex at (1, 7, 3, 6, 4),\n",
       " A vertex at (2, 0, 7, 5, 7),\n",
       " A vertex at (4, 6, 3, 7, 1),\n",
       " A vertex at (7, 0, 6, 7, 1))"
      ]
     },
     "execution_count": 19,
     "metadata": {},
     "output_type": "execute_result"
    }
   ],
   "source": [
    "P.Vrepresentation()"
   ]
  },
  {
   "cell_type": "code",
   "execution_count": 20,
   "id": "17ca2beb-3fd5-47c8-8cb5-45a32996b7a8",
   "metadata": {},
   "outputs": [
    {
     "data": {
      "text/plain": [
       "(An equation (0, 0, 0, 3, 1) x - 22 == 0,\n",
       " An equation (1, 0, -1, 0, 1) x - 2 == 0,\n",
       " An equation (6, 3, 0, 0, 5) x - 47 == 0,\n",
       " An inequality (1, 0, 0, 0, 0) x - 1 >= 0,\n",
       " An inequality (0, 0, 0, 0, -1) x + 7 >= 0,\n",
       " An inequality (1, 0, 0, 0, 1) x - 5 >= 0,\n",
       " An inequality (0, 0, 0, 0, 1) x - 1 >= 0,\n",
       " An inequality (-6, 0, 0, 0, -5) x + 47 >= 0)"
      ]
     },
     "execution_count": 20,
     "metadata": {},
     "output_type": "execute_result"
    }
   ],
   "source": [
    "P.Hrepresentation()"
   ]
  },
  {
   "cell_type": "code",
   "execution_count": 21,
   "id": "6f6dac5a-0fe3-46ba-a580-af9611133338",
   "metadata": {},
   "outputs": [],
   "source": [
    "A = [eq[1:] for eq in P.equations()]  # 提取矩阵 A  等式约束\n",
    "b = [eq[0] for eq in P.equations()]  # 提取向量 b\n",
    "G = [ineq[1:] for ineq in P.inequalities()]  # 提取矩阵 G  不等式约束\n",
    "h = [ineq[0] for ineq in P.inequalities()]  # 提取向量 h"
   ]
  },
  {
   "cell_type": "code",
   "execution_count": 22,
   "id": "0887d368-041e-4f36-b2aa-a888d868338a",
   "metadata": {},
   "outputs": [],
   "source": [
    "N = len(A[1])"
   ]
  },
  {
   "cell_type": "code",
   "execution_count": 23,
   "id": "7d168462-3b46-48c1-977c-c9ea6a1f66f3",
   "metadata": {},
   "outputs": [],
   "source": [
    "f = lambda x, i=i: sum(x[i]**2 for i in range(N))"
   ]
  },
  {
   "cell_type": "code",
   "execution_count": 24,
   "id": "c99846d8-0a25-4c9e-a895-f3b1f9f8e0a8",
   "metadata": {},
   "outputs": [],
   "source": [
    "# 定义约束条件\n",
    "cons = []\n",
    "for i in range(len(A)):\n",
    "    cons.append(lambda x, i=i: b[i]+sum(A[i][j] * x[j] for j in range(N)))"
   ]
  },
  {
   "cell_type": "code",
   "execution_count": 25,
   "id": "1c43aebb-2ae2-45f8-b287-c4038baa5ec5",
   "metadata": {},
   "outputs": [],
   "source": [
    "for i in range(len(A)):\n",
    "    cons.append(lambda x, i=i: -b[i]-sum(A[i][j] * x[j] for j in range(N)))"
   ]
  },
  {
   "cell_type": "code",
   "execution_count": 26,
   "id": "205343bf-e834-4f84-a257-52add742c59a",
   "metadata": {},
   "outputs": [],
   "source": [
    "for i in range(len(G)):\n",
    "    cons.append(lambda x, i=i: h[i]+sum(G[i][j] * x[j] for j in range(N)))"
   ]
  },
  {
   "cell_type": "code",
   "execution_count": 27,
   "id": "ed6546ed-c4c1-4ff5-9564-2dca21665504",
   "metadata": {},
   "outputs": [],
   "source": [
    "# 求解优化问题\n",
    "init = list(P.vertices()[0])  # 取第一个顶点为始化点"
   ]
  },
  {
   "cell_type": "code",
   "execution_count": 28,
   "id": "c78db973-2d65-4f86-83db-f506cf5dd19e",
   "metadata": {},
   "outputs": [
    {
     "name": "stdout",
     "output_type": "stream",
     "text": [
      "最小GKZ向量: (2.8948118883581504, 3.73683175427276, 4.578938569764714, 6.105291106197812, 3.6841266814065636)\n"
     ]
    }
   ],
   "source": [
    "result = minimize_constrained(f, cons, init, algorithm=\"trust-constr\") \n",
    "# algorithm=\"SLSQP\"  多面体的约束由线性等式和不等式组成\n",
    "# algorithm=\"trust-constr\" 高维问题或多面体有大量的约束（稀疏约束矩阵）\n",
    "\n",
    "print(\"最小GKZ向量:\", result)"
   ]
  },
  {
   "cell_type": "code",
   "execution_count": null,
   "id": "7a26c6f1-bd5e-46f0-b4ef-e6172065958f",
   "metadata": {},
   "outputs": [],
   "source": []
  },
  {
   "cell_type": "code",
   "execution_count": null,
   "id": "c98bb371-91ce-4461-9742-fa388582b0d1",
   "metadata": {},
   "outputs": [],
   "source": []
  }
 ],
 "metadata": {
  "kernelspec": {
   "display_name": "SageMath 10.4",
   "language": "sage",
   "name": "sagemath-10.4"
  },
  "language_info": {
   "codemirror_mode": {
    "name": "ipython",
    "version": 3
   },
   "file_extension": ".py",
   "mimetype": "text/x-python",
   "name": "python",
   "nbconvert_exporter": "python",
   "pygments_lexer": "ipython3",
   "version": "3.12.4"
  }
 },
 "nbformat": 4,
 "nbformat_minor": 5
}
