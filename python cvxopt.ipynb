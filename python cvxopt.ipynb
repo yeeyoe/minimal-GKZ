{
 "cells": [
  {
   "cell_type": "code",
   "execution_count": 11,
   "id": "e3c22446-c5a6-48c7-8037-85b75206c1c7",
   "metadata": {},
   "outputs": [
    {
     "name": "stdout",
     "output_type": "stream",
     "text": [
      "Optimal solution (x):\n",
      "[ 1.36e+01]\n",
      "[ 2.55e+01]\n",
      "[ 1.44e+01]\n",
      "[ 2.44e+01]\n",
      "\n"
     ]
    }
   ],
   "source": [
    "%reset -f\n",
    "from cvxopt import matrix, solvers\n",
    "\n",
    "# 目标函数：1/2 x^T Q x + c^T x\n",
    "Q = matrix([[1.0, 0.0, 0.0, 0.0],\n",
    "            [0.0, 1.0, 0.0, 0.0],\n",
    "            [0.0, 0.0, 1.0, 0.0],\n",
    "            [0.0, 0.0, 0.0, 1.0]])  # 单位矩阵\n",
    "c = matrix([0.0, 0.0, 0.0, 0.0])  # 零向量\n",
    "\n",
    "# 等式约束：A x = b\n",
    "A = matrix([[0.0, 0.0, 3.0, 25.0],\n",
    "            [3.0, 0.0, 0.0, -23.0],\n",
    "            [0.0, 3.0, 0.0, 1.0]])\n",
    "b = matrix([653.0, -520.0, 101.0])\n",
    "\n",
    "# 不等式约束：G x <= h\n",
    "G = matrix([[0.0, 0.0, 0.0, -1.0],\n",
    "            [0.0, 0.0, 0.0, 1.0]])\n",
    "h = matrix([-23.0, 26.0])\n",
    "\n",
    "# 求解问题\n",
    "solvers.options['show_progress'] = False  # 关闭求解时的进度输出\n",
    "solution = solvers.qp(Q, c, G.T, h, A.T, b)   # 注意 G 和 A 要转置\n",
    "\n",
    "# 输出结果\n",
    "print(\"Optimal solution (x):\")\n",
    "print(solution['x'])"
   ]
  },
  {
   "cell_type": "code",
   "execution_count": null,
   "id": "63ac26f3-5377-494f-9662-b6c5879fff15",
   "metadata": {},
   "outputs": [],
   "source": []
  }
 ],
 "metadata": {
  "kernelspec": {
   "display_name": "Python 3 (ipykernel)",
   "language": "python",
   "name": "python3"
  },
  "language_info": {
   "codemirror_mode": {
    "name": "ipython",
    "version": 3
   },
   "file_extension": ".py",
   "mimetype": "text/x-python",
   "name": "python",
   "nbconvert_exporter": "python",
   "pygments_lexer": "ipython3",
   "version": "3.12.2"
  }
 },
 "nbformat": 4,
 "nbformat_minor": 5
}
