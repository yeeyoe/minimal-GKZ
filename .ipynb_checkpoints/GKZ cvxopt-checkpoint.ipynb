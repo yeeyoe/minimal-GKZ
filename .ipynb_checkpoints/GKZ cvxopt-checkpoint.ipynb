{
 "cells": [
  {
   "cell_type": "code",
   "execution_count": 2,
   "id": "97b9f96b-d984-449f-bdea-754ad469e854",
   "metadata": {},
   "outputs": [
    {
     "name": "stdout",
     "output_type": "stream",
     "text": [
      "     pcost       dcost       gap    pres   dres\n",
      " 0: -2.6239e+00 -7.0096e-01  1e+01  9e-01  1e+00\n",
      " 1: -1.3074e+00 -7.0428e-01  1e+00  1e-01  1e-01\n",
      " 2:  2.7121e-02 -6.3160e-03  4e-02  4e-04  5e-04\n",
      " 3:  2.7266e-04 -6.2255e-05  4e-04  4e-06  5e-06\n",
      " 4:  2.7266e-06 -6.2245e-07  4e-06  4e-08  5e-08\n",
      " 5:  2.7266e-08 -6.2245e-09  4e-08  4e-10  5e-10\n",
      "Optimal solution found.\n",
      "解为: [ 4.54e-09]\n",
      "[-2.70e-09]\n",
      "\n",
      "最优值为: 2.726569635021371e-08\n"
     ]
    }
   ],
   "source": [
    "from cvxopt import matrix, solvers\n",
    "\n",
    "# 定义问题参数\n",
    "# 这里的P是正定矩阵，表示二次项的系数\n",
    "P = matrix([[4.0, -2.0], [-2.0, 4.0]])\n",
    "# q是线性项的系数向量\n",
    "q = matrix([6.0, 0.0])\n",
    "# G和h定义了约束条件 Gx <= h\n",
    "G = matrix([[-1.0, 0.0], [0.0, -1.0], [1.0, 2.0]], (3,2))\n",
    "h = matrix([0.0, 0.0, 3.0])\n",
    "\n",
    "# 调用CVXOPT的qp求解器\n",
    "# P, q 是目标函数的参数\n",
    "# G, h 是约束条件\n",
    "sol = solvers.qp(P, q, G, h)\n",
    "\n",
    "# 打印结果\n",
    "print(\"解为:\", sol['x'])\n",
    "print(\"最优值为:\", sol['primal objective'])"
   ]
  },
  {
   "cell_type": "code",
   "execution_count": 3,
   "id": "73f606fd-e547-4111-91e7-ce22759485af",
   "metadata": {},
   "outputs": [
    {
     "name": "stdout",
     "output_type": "stream",
     "text": [
      "     pcost       dcost       gap    pres   dres\n",
      " 0:  1.8889e+00  7.7778e-01  1e+00  3e-16  2e+00\n",
      " 1:  1.8769e+00  1.8320e+00  4e-02  2e-16  6e-02\n",
      " 2:  1.8750e+00  1.8739e+00  1e-03  1e-16  5e-04\n",
      " 3:  1.8750e+00  1.8750e+00  1e-05  1e-16  5e-06\n",
      " 4:  1.8750e+00  1.8750e+00  1e-07  3e-16  5e-08\n",
      "Optimal solution found.\n"
     ]
    }
   ],
   "source": [
    "from cvxopt import matrix, solvers\n",
    "# min 1/2xQx+px\n",
    "# s.t. Gx<h  &  Ax=b\n",
    "Q = 2*matrix([ [2, .5], [.5, 1] ])\n",
    "p = matrix([1.0, 1.0])\n",
    "G = matrix([[-1.0,0.0],[0.0,-1.0]])\n",
    "h = matrix([0.0,0.0])\n",
    "A = matrix([1.0, 1.0], (1,2))\n",
    "b = matrix(1.0)\n",
    "sol=solvers.qp(Q, p, G, h, A, b)"
   ]
  },
  {
   "cell_type": "code",
   "execution_count": null,
   "id": "3bdb7338-05c4-4885-84c7-ca25f3159e50",
   "metadata": {},
   "outputs": [],
   "source": []
  }
 ],
 "metadata": {
  "kernelspec": {
   "display_name": "Python 3 (ipykernel)",
   "language": "python",
   "name": "python3"
  },
  "language_info": {
   "codemirror_mode": {
    "name": "ipython",
    "version": 3
   },
   "file_extension": ".py",
   "mimetype": "text/x-python",
   "name": "python",
   "nbconvert_exporter": "python",
   "pygments_lexer": "ipython3",
   "version": "3.12.2"
  }
 },
 "nbformat": 4,
 "nbformat_minor": 5
}
