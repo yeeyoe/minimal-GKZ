{
 "cells": [
  {
   "cell_type": "code",
   "execution_count": 5,
   "id": "860654ab-408b-4b91-bca2-e29ff9624232",
   "metadata": {},
   "outputs": [
    {
     "name": "stdout",
     "output_type": "stream",
     "text": [
      "这些点是否在同一个超平面上: True\n"
     ]
    }
   ],
   "source": [
    "reset()\n",
    "def points_in_same_hyperplane(points):\n",
    "    \"\"\"\n",
    "    检查给定的 k 个点是否在同一个超平面上\n",
    "    :param points: 一个列表，包含 k 个点，每个点是一个向量\n",
    "    :return: True（在同一超平面），False（不在同一超平面）\n",
    "    \"\"\"\n",
    "    # 将第一个点作为基准点，计算相对向量\n",
    "    base_point = vector(points[0])\n",
    "    relative_vectors = [vector(p) - base_point for p in points[1:]]\n",
    "\n",
    "    # 构建矩阵，将相对向量作为矩阵的行\n",
    "    M = matrix(relative_vectors)\n",
    "\n",
    "    # 检查矩阵的秩\n",
    "    rank = M.rank()\n",
    "\n",
    "    # 判断条件：k-1 个向量的秩必须小于等于点的维度（n）\n",
    "    if rank <= len(points) - 2:\n",
    "        return True  # 在同一个超平面上\n",
    "    else:\n",
    "        return False  # 不在同一个超平面上\n",
    "\n",
    "# 示例点坐标列表\n",
    "points = [\n",
    "    [1, 2, 3, 4],\n",
    "    [2, 3, 4, 5],\n",
    "    [3, 4, 5, 6],\n",
    "    [4, 5, 6, 7]\n",
    "]\n",
    "\n",
    "points = [[0,0,7933/582], [1,2,14863/582], [2,1,8407/582], [17,9,4731/194]]\n",
    "\n",
    "# 调用函数\n",
    "result = points_in_same_hyperplane(points)\n",
    "print(\"这些点是否在同一个超平面上:\", result)"
   ]
  }
 ],
 "metadata": {
  "kernelspec": {
   "display_name": "SageMath 10.5",
   "language": "sage",
   "name": "SageMath-10.5"
  },
  "language_info": {
   "codemirror_mode": {
    "name": "ipython",
    "version": 3
   },
   "file_extension": ".py",
   "mimetype": "text/x-python",
   "name": "python",
   "nbconvert_exporter": "python",
   "pygments_lexer": "ipython3",
   "version": "3.12.5"
  }
 },
 "nbformat": 4,
 "nbformat_minor": 5
}
