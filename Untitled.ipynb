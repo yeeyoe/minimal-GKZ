{
 "cells": [
  {
   "cell_type": "code",
   "execution_count": 1,
   "id": "e2bc6b34",
   "metadata": {
    "vscode": {
     "languageId": "python"
    }
   },
   "outputs": [],
   "source": [
    "reset()"
   ]
  },
  {
   "cell_type": "code",
   "execution_count": 2,
   "id": "57bb73a3",
   "metadata": {
    "vscode": {
     "languageId": "python"
    }
   },
   "outputs": [],
   "source": [
    "A = [[0,0], [1,0], [2,0], [1,1], [0,1]] \n",
    "k = 2\n",
    "kA = [[k*x for x in point] for point in A]\n",
    "kP = Polyhedron(kA)\n",
    "kPk = kP.integral_points()  # 找到放大多面体中的整点\n",
    "Pk = [tuple(p / k for p in point) for point in kPk] \n",
    "\n",
    "#print(Pk)"
   ]
  },
  {
   "cell_type": "code",
   "execution_count": null,
   "id": "2ca915f1",
   "metadata": {
    "vscode": {
     "languageId": "plaintext"
    }
   },
   "outputs": [],
   "source": []
  }
 ],
 "metadata": {
  "kernelspec": {
   "display_name": "SageMath 10.5",
   "language": "sage",
   "name": "SageMath-10.5"
  },
  "language_info": {
   "codemirror_mode": {
    "name": "ipython",
    "version": 3
   },
   "file_extension": ".py",
   "mimetype": "text/x-python",
   "name": "sage",
   "nbconvert_exporter": "python",
   "pygments_lexer": "ipython3",
   "version": "3.12.5"
  }
 },
 "nbformat": 4,
 "nbformat_minor": 5
}
