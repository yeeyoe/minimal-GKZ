{
 "cells": [
  {
   "cell_type": "code",
   "execution_count": 31,
   "id": "3bdb7338-05c4-4885-84c7-ca25f3159e50",
   "metadata": {},
   "outputs": [],
   "source": [
    "from sage.geometry.polyhedron.constructor import Polyhedron\n",
    "from cvxopt import matrix, solvers"
   ]
  },
  {
   "cell_type": "code",
   "execution_count": 32,
   "id": "72c534b2-754c-4faf-a448-d37818d6020c",
   "metadata": {},
   "outputs": [],
   "source": [
    "A = PointConfiguration([[0,0], [1,0], [5,2], [1,2], [0,1]])"
   ]
  },
  {
   "cell_type": "code",
   "execution_count": 33,
   "id": "d8ea2ddb-fb84-4680-8788-1140492a9d28",
   "metadata": {},
   "outputs": [],
   "source": [
    "P = A.secondary_polytope()"
   ]
  },
  {
   "cell_type": "code",
   "execution_count": 34,
   "id": "97b9f96b-d984-449f-bdea-754ad469e854",
   "metadata": {},
   "outputs": [
    {
     "ename": "TypeError",
     "evalue": "non-numeric element in list",
     "output_type": "error",
     "traceback": [
      "\u001b[0;31m---------------------------------------------------------------------------\u001b[0m",
      "\u001b[0;31mTypeError\u001b[0m                                 Traceback (most recent call last)",
      "Cell \u001b[0;32mIn[34], line 10\u001b[0m\n\u001b[1;32m      7\u001b[0m q \u001b[38;5;241m=\u001b[39m [Integer(\u001b[38;5;241m0\u001b[39m)] \u001b[38;5;241m*\u001b[39m N  \u001b[38;5;66;03m# 零向量\u001b[39;00m\n\u001b[1;32m      9\u001b[0m \u001b[38;5;66;03m# 从多面体获取不等式约束\u001b[39;00m\n\u001b[0;32m---> 10\u001b[0m G \u001b[38;5;241m=\u001b[39m \u001b[43mmatrix\u001b[49m\u001b[43m(\u001b[49m\u001b[43mP\u001b[49m\u001b[38;5;241;43m.\u001b[39;49m\u001b[43minequalities\u001b[49m\u001b[43m(\u001b[49m\u001b[43m)\u001b[49m\u001b[43m)\u001b[49m\n\u001b[1;32m     11\u001b[0m h \u001b[38;5;241m=\u001b[39m matrix([RealNumber(\u001b[38;5;124m'\u001b[39m\u001b[38;5;124m0.0\u001b[39m\u001b[38;5;124m'\u001b[39m)] \u001b[38;5;241m*\u001b[39m G\u001b[38;5;241m.\u001b[39msize[Integer(\u001b[38;5;241m0\u001b[39m)])  \u001b[38;5;66;03m# 假设所有不等式右侧都为0\u001b[39;00m\n\u001b[1;32m     13\u001b[0m \u001b[38;5;66;03m# 获取等式约束，这里假设我们有等式约束\u001b[39;00m\n",
      "\u001b[0;31mTypeError\u001b[0m: non-numeric element in list"
     ]
    }
   ],
   "source": [
    "# 定义QP问题\n",
    "# Q 是目标函数中的二次项系数矩阵，I是单位矩阵，因为我们最小化x^2\n",
    "N = 5\n",
    "# 创建对角矩阵\n",
    "diagonal_elements = [2] * N\n",
    "Q = diagonal_matrix(diagonal_elements)\n",
    "q = [0] * N  # 零向量\n",
    "    \n",
    "# 从多面体获取不等式约束\n",
    "G = matrix(P.inequalities())\n",
    "h = matrix([0.0] * G.size[0])  # 假设所有不等式右侧都为0\n",
    "    \n",
    "# 获取等式约束，这里假设我们有等式约束\n",
    "A = matrix(P.equations())\n",
    "b = matrix([eq[-1] for eq in P.equations()])  # 假设等式右侧不是0\n",
    "\n",
    "# 调用CVXOPT二次规划求解器\n",
    "sol = solvers.qp(P=Q, q=q, G=G, h=h, A=A, b=b)\n",
    "    \n",
    "# 输出结果\n",
    "print(\"原点在P上的投影:\", sol['x'])"
   ]
  },
  {
   "cell_type": "code",
   "execution_count": null,
   "id": "2d0fc636-64d9-4566-846f-f5450679454a",
   "metadata": {},
   "outputs": [],
   "source": []
  }
 ],
 "metadata": {
  "kernelspec": {
   "display_name": "SageMath 10.5",
   "language": "sage",
   "name": "sagemath-10.5"
  },
  "language_info": {
   "codemirror_mode": {
    "name": "ipython",
    "version": 3
   },
   "file_extension": ".py",
   "mimetype": "text/x-python",
   "name": "python",
   "nbconvert_exporter": "python",
   "pygments_lexer": "ipython3",
   "version": "3.12.5"
  }
 },
 "nbformat": 4,
 "nbformat_minor": 5
}
